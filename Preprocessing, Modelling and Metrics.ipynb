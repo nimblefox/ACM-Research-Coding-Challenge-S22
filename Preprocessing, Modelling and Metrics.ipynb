{
 "cells": [
  {
   "cell_type": "markdown",
   "id": "d2893dca",
   "metadata": {},
   "source": [
    "Loading data and libraries"
   ]
  },
  {
   "cell_type": "code",
   "execution_count": 1,
   "id": "1c5caeaf",
   "metadata": {},
   "outputs": [],
   "source": [
    "import pandas as pd\n",
    "import matplotlib.pyplot as plt\n",
    "import seaborn as sns\n",
    "\n",
    "mushrooms = pd.read_csv(\"mushrooms.csv\")"
   ]
  },
  {
   "cell_type": "markdown",
   "id": "6e14e9a4",
   "metadata": {},
   "source": [
    "Based on EDA, I will be dropping **\"veil-type\"**, **\"stalk-root\"** columns.  \n",
    "While I could have built a prediction model to predict missing values of **\"stalk-root\"**, I decided to skip it for now  \n",
    "Then I will be using encoding to get integer data"
   ]
  },
  {
   "cell_type": "markdown",
   "id": "23a8ed42",
   "metadata": {},
   "source": [
    "# Preprocessing functions\n",
    "\n",
    "Ref : https://scikit-learn.org/stable/modules/generated/sklearn.preprocessing.OneHotEncoder.html  \n",
    "Note : a one-hot encoding of y labels should use a LabelBinarizer instead."
   ]
  },
  {
   "cell_type": "code",
   "execution_count": 2,
   "id": "06774b20",
   "metadata": {},
   "outputs": [],
   "source": [
    "from sklearn.preprocessing import LabelEncoder, OneHotEncoder, LabelBinarizer\n",
    "from sklearn.metrics import confusion_matrix\n",
    "\n",
    "def drop_features(data):\n",
    "    '''\n",
    "    Drops veil-type as it has only 1 value\n",
    "    Drops stalk-root as it has a lot of missing values\n",
    "    '''\n",
    "    data = data.drop(['class', 'stalk-root', 'veil-type'], axis=1)\n",
    "    return data\n",
    "\n",
    "\n",
    "def label_encoding(data):\n",
    "    '''Converts object type to integer type'''\n",
    "    le = LabelEncoder()\n",
    "    return data.apply(le.fit_transform)\n",
    "\n",
    "\n",
    "def onehot_encoding(data):\n",
    "    '''Returns a sparse matrix of the data'''\n",
    "    ohe = OneHotEncoder()\n",
    "    ohe.fit(data)\n",
    "    return ohe.transform(data)\n",
    "\n",
    "\n",
    "# labelbinariser must be used to encode target values\n",
    "def label_binarizer(data):\n",
    "    lb = LabelBinarizer()\n",
    "    return lb.fit_transform(data)\n",
    "\n",
    "\n",
    "def confmat(cfm):\n",
    "    '''Returns a plot from a confusion matrix'''\n",
    "    ax = sns.heatmap(cfm, annot=True, cmap='Blues', fmt='g')\n",
    "    ax.set_title('Confusion Matrix\\n\\n');\n",
    "    ax.set_xlabel('\\nPredicted Values')\n",
    "    ax.set_ylabel('Actual Values ');\n",
    "    ax.xaxis.set_ticklabels(['Edible','Poisonous'])\n",
    "    ax.yaxis.set_ticklabels(['Edible','Poisonous'])\n",
    "    plt.show()"
   ]
  },
  {
   "cell_type": "code",
   "execution_count": 3,
   "id": "583f60fc",
   "metadata": {},
   "outputs": [],
   "source": [
    "X = drop_features(mushrooms)\n",
    "y = mushrooms['class']\n",
    "\n",
    "X_le = label_encoding(X)\n",
    "X_encoded = onehot_encoding(X_le)\n",
    "y_encoded = label_binarizer(y)"
   ]
  },
  {
   "cell_type": "markdown",
   "id": "acf6b37a",
   "metadata": {},
   "source": [
    "# Logistic Regression"
   ]
  },
  {
   "cell_type": "code",
   "execution_count": 4,
   "id": "46eb3916",
   "metadata": {
    "scrolled": true
   },
   "outputs": [
    {
     "data": {
      "text/html": [
       "<div>\n",
       "<style scoped>\n",
       "    .dataframe tbody tr th:only-of-type {\n",
       "        vertical-align: middle;\n",
       "    }\n",
       "\n",
       "    .dataframe tbody tr th {\n",
       "        vertical-align: top;\n",
       "    }\n",
       "\n",
       "    .dataframe thead th {\n",
       "        text-align: right;\n",
       "    }\n",
       "</style>\n",
       "<table border=\"1\" class=\"dataframe\">\n",
       "  <thead>\n",
       "    <tr style=\"text-align: right;\">\n",
       "      <th></th>\n",
       "      <th>Accuracy</th>\n",
       "      <th>Precision</th>\n",
       "      <th>Recall</th>\n",
       "      <th>F1 Score</th>\n",
       "    </tr>\n",
       "  </thead>\n",
       "  <tbody>\n",
       "    <tr>\n",
       "      <th>Fold 1</th>\n",
       "      <td>1.000000</td>\n",
       "      <td>1.0</td>\n",
       "      <td>1.000000</td>\n",
       "      <td>1.000000</td>\n",
       "    </tr>\n",
       "    <tr>\n",
       "      <th>Fold 2</th>\n",
       "      <td>0.999385</td>\n",
       "      <td>1.0</td>\n",
       "      <td>0.998723</td>\n",
       "      <td>0.999361</td>\n",
       "    </tr>\n",
       "    <tr>\n",
       "      <th>Fold 3</th>\n",
       "      <td>1.000000</td>\n",
       "      <td>1.0</td>\n",
       "      <td>1.000000</td>\n",
       "      <td>1.000000</td>\n",
       "    </tr>\n",
       "    <tr>\n",
       "      <th>Fold 4</th>\n",
       "      <td>0.999385</td>\n",
       "      <td>1.0</td>\n",
       "      <td>0.998723</td>\n",
       "      <td>0.999361</td>\n",
       "    </tr>\n",
       "    <tr>\n",
       "      <th>Fold 5</th>\n",
       "      <td>1.000000</td>\n",
       "      <td>1.0</td>\n",
       "      <td>1.000000</td>\n",
       "      <td>1.000000</td>\n",
       "    </tr>\n",
       "  </tbody>\n",
       "</table>\n",
       "</div>"
      ],
      "text/plain": [
       "        Accuracy  Precision    Recall  F1 Score\n",
       "Fold 1  1.000000        1.0  1.000000  1.000000\n",
       "Fold 2  0.999385        1.0  0.998723  0.999361\n",
       "Fold 3  1.000000        1.0  1.000000  1.000000\n",
       "Fold 4  0.999385        1.0  0.998723  0.999361\n",
       "Fold 5  1.000000        1.0  1.000000  1.000000"
      ]
     },
     "execution_count": 4,
     "metadata": {},
     "output_type": "execute_result"
    }
   ],
   "source": [
    "# https://stackoverflow.com/questions/46598301/how-to-compute-precision-recall-and-f1-score-of-an-imbalanced-dataset-for-k-fold\n",
    "\n",
    "from sklearn.linear_model import LogisticRegression\n",
    "from sklearn.model_selection import StratifiedKFold, cross_validate, cross_val_predict\n",
    "\n",
    "\n",
    "skf = StratifiedKFold(n_splits=5, shuffle=True, random_state=4)\n",
    "model_LR= LogisticRegression()\n",
    "\n",
    "\n",
    "scoring = ('accuracy', 'precision', 'recall', 'f1')\n",
    "\n",
    "results = cross_validate(estimator=model_LR, \n",
    "                         X=X_encoded, \n",
    "                         y=y_encoded.ravel(), \n",
    "                         cv=skf, scoring = scoring)\n",
    "\n",
    "scores = pd.DataFrame(list(zip(results['test_accuracy'], \n",
    "                               results['test_precision'], \n",
    "                               results['test_recall'], \n",
    "                               results['test_f1'])), \n",
    "                      columns =['Accuracy', 'Precision', 'Recall', 'F1 Score'], \n",
    "                      index = ('Fold 1', 'Fold 2', 'Fold 3', 'Fold 4', 'Fold 5'))\n",
    "\n",
    "scores"
   ]
  },
  {
   "cell_type": "code",
   "execution_count": 5,
   "id": "40ba4dce",
   "metadata": {
    "scrolled": true
   },
   "outputs": [
    {
     "data": {
      "image/png": "[encoded data removed]",
      "text/plain": [
       "<Figure size 432x288 with 2 Axes>"
      ]
     },
     "metadata": {
      "needs_background": "light"
     },
     "output_type": "display_data"
    }
   ],
   "source": [
    "y_pred = cross_val_predict(model_LR, X_encoded, y_encoded, cv=skf, n_jobs=-1)\n",
    "conf_mat = confusion_matrix(y_encoded, y_pred)\n",
    "\n",
    "confmat(conf_mat)"
   ]
  },
  {
   "cell_type": "markdown",
   "id": "e5ad7713",
   "metadata": {},
   "source": [
    "The simple Linear regression model is performing really well with a mean accuracy of **0.99976**  \n",
    "And it has a perfect Precision score but not a perfect Recall  \n",
    "Which means, it is predicting Poisonous shrooms as edible (2 out of 3916 times)  \n",
    "**False Negatives are not acceptable !**\n",
    "\n",
    "I've learnt that I can penalize False negative prediction and implemented weighted LR.   \n",
    "I used this reference : https://developpaper.com/using-class-weight-to-improve-class-imbalance/  \n",
    "But the overall F1 score was deteriorating.\n",
    "So I decided to move on to another model."
   ]
  },
  {
   "cell_type": "markdown",
   "id": "2fe20ce9",
   "metadata": {},
   "source": [
    "# Decision Tree Classifier"
   ]
  },
  {
   "cell_type": "code",
   "execution_count": 6,
   "id": "1d240fb4",
   "metadata": {
    "scrolled": true
   },
   "outputs": [
    {
     "data": {
      "text/html": [
       "<div>\n",
       "<style scoped>\n",
       "    .dataframe tbody tr th:only-of-type {\n",
       "        vertical-align: middle;\n",
       "    }\n",
       "\n",
       "    .dataframe tbody tr th {\n",
       "        vertical-align: top;\n",
       "    }\n",
       "\n",
       "    .dataframe thead th {\n",
       "        text-align: right;\n",
       "    }\n",
       "</style>\n",
       "<table border=\"1\" class=\"dataframe\">\n",
       "  <thead>\n",
       "    <tr style=\"text-align: right;\">\n",
       "      <th></th>\n",
       "      <th>Accuracy</th>\n",
       "      <th>Precision</th>\n",
       "      <th>Recall</th>\n",
       "      <th>F1 Score</th>\n",
       "    </tr>\n",
       "  </thead>\n",
       "  <tbody>\n",
       "    <tr>\n",
       "      <th>Fold 1</th>\n",
       "      <td>1.0</td>\n",
       "      <td>1.0</td>\n",
       "      <td>1.0</td>\n",
       "      <td>1.0</td>\n",
       "    </tr>\n",
       "    <tr>\n",
       "      <th>Fold 2</th>\n",
       "      <td>1.0</td>\n",
       "      <td>1.0</td>\n",
       "      <td>1.0</td>\n",
       "      <td>1.0</td>\n",
       "    </tr>\n",
       "    <tr>\n",
       "      <th>Fold 3</th>\n",
       "      <td>1.0</td>\n",
       "      <td>1.0</td>\n",
       "      <td>1.0</td>\n",
       "      <td>1.0</td>\n",
       "    </tr>\n",
       "    <tr>\n",
       "      <th>Fold 4</th>\n",
       "      <td>1.0</td>\n",
       "      <td>1.0</td>\n",
       "      <td>1.0</td>\n",
       "      <td>1.0</td>\n",
       "    </tr>\n",
       "    <tr>\n",
       "      <th>Fold 5</th>\n",
       "      <td>1.0</td>\n",
       "      <td>1.0</td>\n",
       "      <td>1.0</td>\n",
       "      <td>1.0</td>\n",
       "    </tr>\n",
       "  </tbody>\n",
       "</table>\n",
       "</div>"
      ],
      "text/plain": [
       "        Accuracy  Precision  Recall  F1 Score\n",
       "Fold 1       1.0        1.0     1.0       1.0\n",
       "Fold 2       1.0        1.0     1.0       1.0\n",
       "Fold 3       1.0        1.0     1.0       1.0\n",
       "Fold 4       1.0        1.0     1.0       1.0\n",
       "Fold 5       1.0        1.0     1.0       1.0"
      ]
     },
     "execution_count": 6,
     "metadata": {},
     "output_type": "execute_result"
    }
   ],
   "source": [
    "from sklearn.tree import DecisionTreeClassifier\n",
    "\n",
    "model_DT= DecisionTreeClassifier(random_state=0)\n",
    "\n",
    "results = cross_validate(estimator=model_DT, \n",
    "                         X=X_encoded, \n",
    "                         y=y_encoded.ravel(), \n",
    "                         cv=skf, scoring = scoring)\n",
    "\n",
    "scores = pd.DataFrame(list(zip(results['test_accuracy'], \n",
    "                               results['test_precision'], \n",
    "                               results['test_recall'], \n",
    "                               results['test_f1'])), \n",
    "                      columns =['Accuracy', 'Precision', 'Recall', 'F1 Score'], \n",
    "                      index = ('Fold 1', 'Fold 2', 'Fold 3', 'Fold 4', 'Fold 5'))\n",
    "\n",
    "scores"
   ]
  },
  {
   "cell_type": "code",
   "execution_count": 7,
   "id": "851a4103",
   "metadata": {
    "scrolled": true
   },
   "outputs": [
    {
     "data": {
      "image/png": "[encoded data removed]",
      "text/plain": [
       "<Figure size 432x288 with 2 Axes>"
      ]
     },
     "metadata": {
      "needs_background": "light"
     },
     "output_type": "display_data"
    }
   ],
   "source": [
    "y_pred_2 = cross_val_predict(model_DT, X_encoded, y_encoded.ravel(), cv=skf, n_jobs=-1)\n",
    "conf_mat_2 = confusion_matrix(y_encoded, y_pred_2)\n",
    "\n",
    "confmat(conf_mat_2)"
   ]
  },
  {
   "cell_type": "markdown",
   "id": "6fd44fc0",
   "metadata": {},
   "source": [
    "Now we have a perfect F1 score.  \n",
    "I dont think I would need anymore models  \n",
    "Let's see what the features were given more importance in this Decision tree\n",
    "\n",
    "Reference : https://machinelearningmastery.com/calculate-feature-importance-with-python/"
   ]
  },
  {
   "cell_type": "code",
   "execution_count": 26,
   "id": "beddf1c4",
   "metadata": {
    "scrolled": false
   },
   "outputs": [
    {
     "data": {
      "image/png": "[encoded data removed]",
      "text/plain": [
       "<Figure size 432x288 with 1 Axes>"
      ]
     },
     "metadata": {
      "needs_background": "light"
     },
     "output_type": "display_data"
    }
   ],
   "source": [
    "# plot feature importance\n",
    "model_DT.fit(X_le, y_encoded)\n",
    "plt.bar(X.columns, model_DT.feature_importances_)\n",
    "plt.xticks(rotation=90)\n",
    "plt.show()"
   ]
  },
  {
   "cell_type": "markdown",
   "id": "ea5c21b0",
   "metadata": {},
   "source": [
    "**'gill-color' ; 'spore-print-color' ; 'population' ; 'gill-size'** seem to be the deciding features here"
   ]
  },
  {
   "cell_type": "markdown",
   "id": "be48770b",
   "metadata": {},
   "source": [
    "# END"
   ]
  }
 ],
 "metadata": {
  "kernelspec": {
   "display_name": "Python 3 (ipykernel)",
   "language": "python",
   "name": "python3"
  },
  "language_info": {
   "codemirror_mode": {
    "name": "ipython",
    "version": 3
   },
   "file_extension": ".py",
   "mimetype": "text/x-python",
   "name": "python",
   "nbconvert_exporter": "python",
   "pygments_lexer": "ipython3",
   "version": "3.10.1"
  }
 },
 "nbformat": 4,
 "nbformat_minor": 5
}
