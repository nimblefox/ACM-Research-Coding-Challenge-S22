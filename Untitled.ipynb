{
 "cells": [
  {
   "cell_type": "markdown",
   "id": "5f9443cc",
   "metadata": {},
   "source": [
    "1) test train validation split\n",
    "2) EDA - Nulls and types\n",
    "3) PLots\n",
    "4) preprocessing pipeline\n",
    "5) cros val; gini\n",
    "6) Accuracy ; Precision Recall ; confusion matrix"
   ]
  },
  {
   "cell_type": "markdown",
   "id": "90ad62ff",
   "metadata": {},
   "source": [
    "Attribute Information: (classes: edible=e, poisonous=p)\n",
    "\n",
    "1) cap-shape: bell=b, conical=c, convex=x, flat=f, knobbed=k, sunken=s\n",
    "\n",
    "2) cap-surface: fibrous=f, grooves=g, scaly=y, smooth=s\n",
    "\n",
    "3) cap-color: brown=n, buff=b, cinnamon=c, gray=g, green=r, pink=p, purple=u, red=e, white=w, yellow=y\n",
    "\n",
    "4) bruises: bruises=t, no=f\n",
    "\n",
    "5) odor: almond=a, anise=l, creosote=c, fishy=y, foul=f, musty=m, none=n, pungent=p, spicy=s\n",
    "\n",
    "6) gill-attachment: attached=a, descending=d, free=f, notched=n\n",
    "\n",
    "7) gill-spacing: close=c, crowded=w, distant=d\n",
    "\n",
    "8) gill-size: broad=b, narrow=n\n",
    "\n",
    "9) gill-color: black=k, brown=n, buff=b, chocolate=h, gray=g, green=r, orange=o, pink=p, purple=u, red=e, white=w, yellow=y\n",
    "\n",
    "10) stalk-shape: enlarging=e, tapering=t\n",
    "\n",
    "11) stalk-root: bulbous=b, club=c, cup=u, equal=e, rhizomorphs=z, rooted=r, missing=?\n",
    "\n",
    "12) stalk-surface-above-ring: fibrous=f, scaly=y, silky=k, smooth=s\n",
    "\n",
    "13) stalk-surface-below-ring: fibrous=f, scaly=y, silky=k, smooth=s\n",
    "\n",
    "14) stalk-color-above-ring: brown=n, buff=b, cinnamon=c, gray=g, orange=o, pink=p, red=e, white=w, yellow=y\n",
    "\n",
    "15) stalk-color-below-ring: brown=n, buff=b, cinnamon=c, gray=g, orange=o, pink=p, red=e, white=w, yellow=y\n",
    "\n",
    "16) veil-type: partial=p, universal=u\n",
    "\n",
    "17) veil-color: brown=n, orange=o, white=w, yellow=y\n",
    "\n",
    "18) ring-number: none=n, one=o, two=t\n",
    "\n",
    "19) ring-type: cobwebby=c, evanescent=e, flaring=f, large=l, none=n, pendant=p, sheathing=s, zone=z\n",
    "\n",
    "20) spore-print-color: black=k, brown=n, buff=b, chocolate=h, green=r, orange=o, purple=u, white=w, yellow=y\n",
    "\n",
    "21) population: abundant=a, clustered=c, numerous=n, scattered=s, several=v, solitary=y\n",
    "\n",
    "22) habitat: grasses=g, leaves=l, meadows=m, paths=p, urban=u, waste=w, woods=d\n"
   ]
  },
  {
   "cell_type": "code",
   "execution_count": null,
   "id": "fabf3e12",
   "metadata": {},
   "outputs": [],
   "source": []
  }
 ],
 "metadata": {
  "kernelspec": {
   "display_name": "Python 3 (ipykernel)",
   "language": "python",
   "name": "python3"
  },
  "language_info": {
   "codemirror_mode": {
    "name": "ipython",
    "version": 3
   },
   "file_extension": ".py",
   "mimetype": "text/x-python",
   "name": "python",
   "nbconvert_exporter": "python",
   "pygments_lexer": "ipython3",
   "version": "3.10.1"
  }
 },
 "nbformat": 4,
 "nbformat_minor": 5
}
